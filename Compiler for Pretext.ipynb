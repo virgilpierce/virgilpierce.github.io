{
 "cells": [
  {
   "cell_type": "code",
   "execution_count": 9,
   "metadata": {},
   "outputs": [
    {
     "name": "stderr",
     "output_type": "stream",
     "text": [
      "MBX:WARNING: A subsection containing subsubsections needs to have other content inside an <introduction> and/or  <conclusion>.\n",
      "             located within: \" Class and Instructor Details\n",
      "\" (title)\n",
      "MBX:WARNING: A subsection containing subsubsections needs to have other content inside an <introduction> and/or  <conclusion>.\n",
      "             located within: \" Course Description\n",
      "\" (title)\n",
      "MBX:WARNING: A subsection containing subsubsections needs to have other content inside an <introduction> and/or  <conclusion>.\n",
      "             located within: \" Textbook and Software\n",
      "\" (title)\n",
      "MBX:WARNING: A subsection containing subsubsections needs to have other content inside an <introduction> and/or  <conclusion>.\n",
      "             located within: \" Connections with Industrial Mathematics\n",
      "\" (title)\n",
      "MBX:WARNING: A subsection containing subsubsections needs to have other content inside an <introduction> and/or  <conclusion>.\n",
      "             located within: \" Assessments\n",
      "\" (title)\n"
     ]
    }
   ],
   "source": [
    "%%bash\n",
    "xsltproc --xinclude ../mathbook/xsl/mathbook-html.xsl datascience.xml"
   ]
  },
  {
   "cell_type": "code",
   "execution_count": null,
   "metadata": {},
   "outputs": [],
   "source": []
  }
 ],
 "metadata": {
  "kernelspec": {
   "display_name": "Python 3",
   "language": "python",
   "name": "python3"
  },
  "language_info": {
   "codemirror_mode": {
    "name": "ipython",
    "version": 3
   },
   "file_extension": ".py",
   "mimetype": "text/x-python",
   "name": "python",
   "nbconvert_exporter": "python",
   "pygments_lexer": "ipython3",
   "version": "3.7.3"
  }
 },
 "nbformat": 4,
 "nbformat_minor": 2
}
